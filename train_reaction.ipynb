{
 "cells": [
  {
   "cell_type": "markdown",
   "id": "24865530",
   "metadata": {},
   "source": [
    "# Training Demo for DeepReaction\n",
    "\n",
    "This notebook demonstrates how to train a molecular reaction prediction model using the DeepReaction framework with a simplified unified configuration interface."
   ]
  },
  {
   "cell_type": "markdown",
   "id": "95da61b8",
   "metadata": {},
   "source": [
    "## 1. Import Required Libraries"
   ]
  },
  {
   "cell_type": "code",
   "execution_count": 15,
   "id": "ba6d7c19",
   "metadata": {},
   "outputs": [],
   "source": [
    "import os\n",
    "import sys\n",
    "import torch\n",
    "import numpy as np\n",
    "from pathlib import Path\n",
    "\n",
    "# Import from deepreaction package using the new unified interface\n",
    "from deepreaction import ReactionTrainer, ReactionDataset, Config"
   ]
  },
  {
   "cell_type": "markdown",
   "id": "72f9df28",
   "metadata": {},
   "source": [
    "## 2. Define Training Parameters\n",
    "\n",
    "All parameters are defined in a single dictionary for simplicity."
   ]
  },
  {
   "cell_type": "code",
   "execution_count": 16,
   "id": "850a76e0",
   "metadata": {},
   "outputs": [],
   "source": [
    "# Define all parameters in a single dictionary\n",
    "params = {\n",
    "    # Dataset parameters\n",
    "    'dataset': 'XTB',\n",
    "    'readout': 'mean',\n",
    "    'dataset_root': './dataset/DATASET_DA_F',  # Adjust path if needed\n",
    "    'dataset_csv': './dataset/DATASET_DA_F/dataset_xtb_final.csv', # Adjust path if needed\n",
    "    'train_ratio': 0.8,\n",
    "    'val_ratio': 0.1,\n",
    "    'test_ratio': 0.1,\n",
    "    'target_fields': ['G(TS)', 'DrG'],\n",
    "    'target_weights': [1.0, 1.0],\n",
    "    'input_features': ['G(TS)_xtb', 'DrG_xtb'],\n",
    "    'file_patterns': ['*_reactant.xyz', '*_ts.xyz', '*_product.xyz'],\n",
    "    'file_dir_pattern': 'reaction_*',\n",
    "    'id_field': 'ID',\n",
    "    'dir_field': 'R_dir',\n",
    "    'reaction_field': 'reaction',\n",
    "    'cv_folds': 0, # Set > 0 for cross-validation\n",
    "    'use_scaler': True,  # Controls whether to scale target values and pass scalers to trainer\n",
    "    \n",
    "    # Model parameters (DimeNet++ specific)\n",
    "    'model_type': 'dimenet++',\n",
    "    'node_dim': 128,\n",
    "    'dropout': 0.1,\n",
    "    'prediction_hidden_layers': 3,\n",
    "    'prediction_hidden_dim': 512,\n",
    "    'use_layer_norm': False,\n",
    "    \n",
    "    'hidden_channels': 128,\n",
    "    'num_blocks': 5,\n",
    "    'int_emb_size': 64,\n",
    "    'basis_emb_size': 8,\n",
    "    'out_emb_channels': 256,\n",
    "    'num_spherical': 7,\n",
    "    'num_radial': 6,\n",
    "    'cutoff': 5.0,\n",
    "    'envelope_exponent': 5,\n",
    "    'num_before_skip': 1,\n",
    "    'num_after_skip': 2,\n",
    "    'num_output_layers': 3,\n",
    "    'max_num_neighbors': 32,\n",
    "    \n",
    "    # Training parameters\n",
    "    'batch_size': 16,\n",
    "    'eval_batch_size': None, # Uses batch_size if None\n",
    "    'lr': 0.0005,\n",
    "    'finetune_lr': None,\n",
    "    'epochs': 20,  # Set to 10 for demonstration\n",
    "    'min_epochs': 0,\n",
    "    'early_stopping': 40,\n",
    "    'optimizer': 'adamw',\n",
    "    'scheduler': 'warmup_cosine',\n",
    "    'warmup_epochs': 10,\n",
    "    'min_lr': 1e-7,\n",
    "    'weight_decay': 0.0001,\n",
    "    'random_seed': 42234,\n",
    "    \n",
    "    'out_dir': './results/reaction_model', # Adjust path if needed\n",
    "    'save_best_model': True,\n",
    "    'save_last_model': False,\n",
    "    'checkpoint_path': None, # Path to a .ckpt file to resume/continue\n",
    "    'mode': 'continue', # 'train' or 'continue'\n",
    "    'freeze_base_model': False,\n",
    "    \n",
    "    'cuda': True, # Set to False to force CPU\n",
    "    'gpu_id': 0,\n",
    "    'num_workers': 4 # Number of workers for data loading\n",
    "}"
   ]
  },
  {
   "cell_type": "markdown",
   "id": "4867a4d2",
   "metadata": {},
   "source": [
    "## 3. Set Up GPU and Output Directory"
   ]
  },
  {
   "cell_type": "code",
   "execution_count": 17,
   "id": "b699333f",
   "metadata": {},
   "outputs": [
    {
     "name": "stdout",
     "output_type": "stream",
     "text": [
      "Using GPU: NVIDIA GeForce RTX 4090 D\n",
      "Output directory created/exists: ./results/reaction_model\n"
     ]
    }
   ],
   "source": [
    "# Setup GPU or CPU\n",
    "if params['cuda'] and torch.cuda.is_available():\n",
    "    os.environ[\"CUDA_VISIBLE_DEVICES\"] = str(params['gpu_id'])\n",
    "    device = torch.device(f\"cuda:{params['gpu_id']}\")\n",
    "    print(f\"Using GPU: {torch.cuda.get_device_name(device)}\")\n",
    "else:\n",
    "    os.environ[\"CUDA_VISIBLE_DEVICES\"] = \"\"\n",
    "    device = torch.device(\"cpu\")\n",
    "    print(\"Using CPU\")\n",
    "    params['cuda'] = False\n",
    "\n",
    "# Create output directory\n",
    "os.makedirs(params['out_dir'], exist_ok=True)\n",
    "print(f\"Output directory created/exists: {params['out_dir']}\")"
   ]
  },
  {
   "cell_type": "markdown",
   "id": "099063b8",
   "metadata": {},
   "source": [
    "## 4. Create Configuration Object\n",
    "\n",
    "Use the unified configuration interface to create the configuration from parameters dictionary."
   ]
  },
  {
   "cell_type": "code",
   "execution_count": 18,
   "id": "7ff8ef3c",
   "metadata": {},
   "outputs": [
    {
     "name": "stdout",
     "output_type": "stream",
     "text": [
      "Configuration created successfully\n"
     ]
    }
   ],
   "source": [
    "# Create configuration directly from parameters dictionary\n",
    "config = Config.from_params(params)\n",
    "print(\"Configuration created successfully\")"
   ]
  },
  {
   "cell_type": "markdown",
   "id": "7f587e70",
   "metadata": {},
   "source": [
    "## 5. Load and Prepare Dataset\n",
    "\n",
    "Load the dataset with the unified configuration object."
   ]
  },
  {
   "cell_type": "code",
   "execution_count": 19,
   "id": "f2fee877",
   "metadata": {},
   "outputs": [
    {
     "name": "stdout",
     "output_type": "stream",
     "text": [
      "Loading dataset from unified configuration\n",
      "Inference mode changed from True to False\n",
      "Using target fields: ['G(TS)', 'DrG']\n",
      "Using input features: ['G(TS)_xtb', 'DrG_xtb']\n",
      "Using file patterns: ['*_reactant.xyz', '*_ts.xyz', '*_product.xyz']\n"
     ]
    },
    {
     "name": "stderr",
     "output_type": "stream",
     "text": [
      "\n",
      "Processing reactions:   0%|          | 0/1582 [00:00<?, ?it/s]\u001b[A\n",
      "Processing reactions:   8%|▊         | 132/1582 [00:00<00:01, 1317.67it/s]\u001b[A\n",
      "Processing reactions:  20%|█▉        | 311/1582 [00:00<00:00, 1590.74it/s]\u001b[A\n",
      "Processing reactions:  31%|███       | 487/1582 [00:00<00:00, 1663.55it/s]\u001b[A\n",
      "Processing reactions:  42%|████▏     | 665/1582 [00:00<00:00, 1706.48it/s]\u001b[A\n",
      "Processing reactions:  53%|█████▎    | 846/1582 [00:00<00:00, 1742.52it/s]\u001b[A\n",
      "Processing reactions:  65%|██████▍   | 1025/1582 [00:00<00:00, 1756.05it/s]\u001b[A\n",
      "Processing reactions:  76%|███████▌  | 1201/1582 [00:00<00:00, 1739.48it/s]\u001b[A"
     ]
    },
    {
     "name": "stdout",
     "output_type": "stream",
     "text": [
      "Warning: Folder dataset/DATASET_DA_F/reaction_R6866 does not exist, skipping reaction_id ID79335\n",
      "Warning: Folder dataset/DATASET_DA_F/reaction_R6867 does not exist, skipping reaction_id ID79335\n"
     ]
    },
    {
     "name": "stderr",
     "output_type": "stream",
     "text": [
      "\n",
      "Processing reactions:  87%|████████▋ | 1375/1582 [00:00<00:00, 1699.63it/s]\u001b[A\n",
      "Processing reactions: 100%|██████████| 1582/1582 [00:00<00:00, 1696.51it/s]\u001b[A\n"
     ]
    },
    {
     "name": "stdout",
     "output_type": "stream",
     "text": [
      "Processed 1580 reactions, skipped 2 reactions\n",
      "Saved metadata to dataset/DATASET_DA_F/processed/metadata.json\n",
      "Processed 1580 reactions, saved to dataset/DATASET_DA_F/processed/data_038b0f2fed6b.pt\n",
      "Dataset split: train 1269, validation 162, test 149 samples\n",
      "Dataset loaded successfully\n",
      "Dataset stats: Train: 1269, Validation: 162, Test: 149\n"
     ]
    }
   ],
   "source": [
    "# Load dataset using the unified configuration\n",
    "print(\"Loading dataset from unified configuration\")\n",
    "\n",
    "# Pass the entire config object to the dataset\n",
    "dataset = ReactionDataset(config=config)\n",
    "\n",
    "print(\"Dataset loaded successfully\")\n",
    "data_stats = dataset.get_data_stats()\n",
    "print(f\"Dataset stats: Train: {data_stats['train_size']}, Validation: {data_stats['val_size']}, Test: {data_stats['test_size']}\")\n",
    "if config.reaction.cv_folds > 0:\n",
    "    print(f\"Cross-validation enabled with {dataset.get_num_folds()} folds.\")"
   ]
  },
  {
   "cell_type": "markdown",
   "id": "ce37733f",
   "metadata": {},
   "source": [
    "## 6. Initialize and Train Model\n",
    "\n",
    "Create a trainer and train the model with the simplified interface."
   ]
  },
  {
   "cell_type": "code",
   "execution_count": 20,
   "id": "c481d96f",
   "metadata": {},
   "outputs": [
    {
     "name": "stderr",
     "output_type": "stream",
     "text": [
      "Seed set to 42234\n"
     ]
    },
    {
     "name": "stdout",
     "output_type": "stream",
     "text": [
      "Using scaler: True\n",
      "Trainer initialized successfully\n",
      "Starting training with 20 epochs\n"
     ]
    }
   ],
   "source": [
    "# Create trainer - use scaler based on the config parameter\n",
    "scalers = dataset.get_scalers() if config.reaction.use_scaler else None\n",
    "\n",
    "print(f\"Using scaler: {config.reaction.use_scaler}\")\n",
    "\n",
    "trainer = ReactionTrainer(\n",
    "    config=config,\n",
    "    scalers=scalers  # Pass scalers only if use_scaler is True\n",
    ")\n",
    "\n",
    "print(\"Trainer initialized successfully\")\n",
    "print(f\"Starting training with {config.training.max_epochs} epochs\")"
   ]
  },
  {
   "cell_type": "code",
   "execution_count": 21,
   "id": "38a25f85",
   "metadata": {},
   "outputs": [
    {
     "name": "stdout",
     "output_type": "stream",
     "text": [
      "Using explicitly provided num_targets: 2\n",
      "Using provided target weights: [1.0, 1.0]\n",
      "Using target field names: ['G(TS)', 'DrG']\n",
      "Final model configuration: num_targets=2, target_field_names=['G(TS)', 'DrG'], target_weights=[1.0, 1.0]\n",
      "Initializing model with output_dim=2\n"
     ]
    },
    {
     "name": "stderr",
     "output_type": "stream",
     "text": [
      "GPU available: True (cuda), used: True\n",
      "TPU available: False, using: 0 TPU cores\n",
      "HPU available: False, using: 0 HPUs\n",
      "/root/miniconda3/lib/python3.10/site-packages/pytorch_lightning/callbacks/model_checkpoint.py:654: Checkpoint directory /root/DeepReaction/results/reaction_model/checkpoints exists and is not empty.\n",
      "LOCAL_RANK: 0 - CUDA_VISIBLE_DEVICES: [0]\n",
      "\n",
      "  | Name           | Type                      | Params | Mode \n",
      "---------------------------------------------------------------------\n",
      "0 | model          | MoleculePredictionModel   | 3.5 M  | train\n",
      "1 | net            | DimeNetPlusPlus           | 2.3 M  | train\n",
      "2 | readout_module | MeanReadout               | 0      | train\n",
      "3 | regr_or_cls_nn | MultiTargetPredictionHead | 1.2 M  | train\n",
      "---------------------------------------------------------------------\n",
      "3.5 M     Trainable params\n",
      "0         Non-trainable params\n",
      "3.5 M     Total params\n",
      "13.866    Total estimated model params size (MB)\n",
      "193       Modules in train mode\n",
      "0         Modules in eval mode\n"
     ]
    },
    {
     "name": "stdout",
     "output_type": "stream",
     "text": [
      "DEBUG - MultiTargetPredictionHead initialized with 2 targets\n",
      "DEBUG - MultiTargetPredictionHead input_dim: 130\n",
      "DEBUG - Creating head for target 0\n",
      "DEBUG - Creating head for target 1\n",
      "Sanity Checking DataLoader 0:   0%|          | 0/2 [00:00<?, ?it/s]DEBUG - MultiTargetPredictionHead output shape: torch.Size([16, 2])\n",
      "Epoch 0: 100%|██████████| 80/80 [00:26<00:00,  2.97it/s, v_num=1, train_total_loss_step=0.597]\n",
      "Validation: |          | 0/? [00:00<?, ?it/s]\u001b[A\n",
      "Validation:   0%|          | 0/11 [00:00<?, ?it/s]\u001b[A\n",
      "Validation DataLoader 0:   0%|          | 0/11 [00:00<?, ?it/s]\u001b[A\n",
      "Validation DataLoader 0:  91%|█████████ | 10/11 [00:02<00:00,  4.78it/s]\u001b[A\n",
      "Validation DataLoader 0: 100%|██████████| 11/11 [00:02<00:00,  4.99it/s]\u001b[A\n",
      "Epoch 0: 100%|██████████| 80/80 [00:29<00:00,  2.70it/s, v_num=1, train_total_loss_step=0.597, val_total_loss_step=0.203, val_total_loss_epoch=0.432, train_total_loss_epoch=1.440]"
     ]
    },
    {
     "name": "stderr",
     "output_type": "stream",
     "text": [
      "Metric val_total_loss improved. New best score: 0.432\n",
      "Epoch 0, global step 80: 'val_total_loss' reached 0.43250 (best 0.43250), saving model to '/root/DeepReaction/results/reaction_model/checkpoints/best-epoch=0000-val_total_loss=0.4325.ckpt' as top 1\n"
     ]
    },
    {
     "name": "stdout",
     "output_type": "stream",
     "text": [
      "Epoch 1: 100%|██████████| 80/80 [00:27<00:00,  2.93it/s, v_num=1, train_total_loss_step=0.101, val_total_loss_step=0.203, val_total_loss_epoch=0.432, train_total_loss_epoch=1.440]\n",
      "Validation: |          | 0/? [00:00<?, ?it/s]\u001b[A\n",
      "Validation:   0%|          | 0/11 [00:00<?, ?it/s]\u001b[A\n",
      "Validation DataLoader 0:   0%|          | 0/11 [00:00<?, ?it/s]\u001b[A\n",
      "Validation DataLoader 0:  91%|█████████ | 10/11 [00:02<00:00,  4.89it/s]\u001b[A\n",
      "Validation DataLoader 0: 100%|██████████| 11/11 [00:02<00:00,  5.10it/s]\u001b[A\n",
      "Epoch 1: 100%|██████████| 80/80 [00:29<00:00,  2.67it/s, v_num=1, train_total_loss_step=0.101, val_total_loss_step=0.140, val_total_loss_epoch=0.206, train_total_loss_epoch=0.421]"
     ]
    },
    {
     "name": "stderr",
     "output_type": "stream",
     "text": [
      "Metric val_total_loss improved by 0.227 >= min_delta = 0.0001. New best score: 0.206\n",
      "Epoch 1, global step 160: 'val_total_loss' reached 0.20568 (best 0.20568), saving model to '/root/DeepReaction/results/reaction_model/checkpoints/best-epoch=0001-val_total_loss=0.2057.ckpt' as top 1\n"
     ]
    },
    {
     "name": "stdout",
     "output_type": "stream",
     "text": [
      "Epoch 2: 100%|██████████| 80/80 [00:26<00:00,  2.98it/s, v_num=1, train_total_loss_step=0.0715, val_total_loss_step=0.140, val_total_loss_epoch=0.206, train_total_loss_epoch=0.421]\n",
      "Validation: |          | 0/? [00:00<?, ?it/s]\u001b[A\n",
      "Validation:   0%|          | 0/11 [00:00<?, ?it/s]\u001b[A\n",
      "Validation DataLoader 0:   0%|          | 0/11 [00:00<?, ?it/s]\u001b[A\n",
      "Validation DataLoader 0:  91%|█████████ | 10/11 [00:02<00:00,  4.82it/s]\u001b[A\n",
      "Validation DataLoader 0: 100%|██████████| 11/11 [00:02<00:00,  5.03it/s]\u001b[A\n",
      "Epoch 2: 100%|██████████| 80/80 [00:29<00:00,  2.71it/s, v_num=1, train_total_loss_step=0.0715, val_total_loss_step=0.038, val_total_loss_epoch=0.136, train_total_loss_epoch=0.300]"
     ]
    },
    {
     "name": "stderr",
     "output_type": "stream",
     "text": [
      "Metric val_total_loss improved by 0.070 >= min_delta = 0.0001. New best score: 0.136\n",
      "Epoch 2, global step 240: 'val_total_loss' reached 0.13594 (best 0.13594), saving model to '/root/DeepReaction/results/reaction_model/checkpoints/best-epoch=0002-val_total_loss=0.1359-v1.ckpt' as top 1\n"
     ]
    },
    {
     "name": "stdout",
     "output_type": "stream",
     "text": [
      "Epoch 3: 100%|██████████| 80/80 [00:27<00:00,  2.94it/s, v_num=1, train_total_loss_step=0.217, val_total_loss_step=0.038, val_total_loss_epoch=0.136, train_total_loss_epoch=0.300] \n",
      "Validation: |          | 0/? [00:00<?, ?it/s]\u001b[A\n",
      "Validation:   0%|          | 0/11 [00:00<?, ?it/s]\u001b[A\n",
      "Validation DataLoader 0:   0%|          | 0/11 [00:00<?, ?it/s]\u001b[A\n",
      "Validation DataLoader 0:  91%|█████████ | 10/11 [00:02<00:00,  4.86it/s]\u001b[A\n",
      "Validation DataLoader 0: 100%|██████████| 11/11 [00:02<00:00,  5.07it/s]\u001b[A\n",
      "Epoch 3: 100%|██████████| 80/80 [00:29<00:00,  2.68it/s, v_num=1, train_total_loss_step=0.217, val_total_loss_step=0.273, val_total_loss_epoch=0.124, train_total_loss_epoch=0.254]"
     ]
    },
    {
     "name": "stderr",
     "output_type": "stream",
     "text": [
      "Metric val_total_loss improved by 0.012 >= min_delta = 0.0001. New best score: 0.124\n",
      "Epoch 3, global step 320: 'val_total_loss' reached 0.12386 (best 0.12386), saving model to '/root/DeepReaction/results/reaction_model/checkpoints/best-epoch=0003-val_total_loss=0.1239.ckpt' as top 1\n"
     ]
    },
    {
     "name": "stdout",
     "output_type": "stream",
     "text": [
      "Epoch 4: 100%|██████████| 80/80 [00:27<00:00,  2.90it/s, v_num=1, train_total_loss_step=0.138, val_total_loss_step=0.273, val_total_loss_epoch=0.124, train_total_loss_epoch=0.254] \n",
      "Validation: |          | 0/? [00:00<?, ?it/s]\u001b[A\n",
      "Validation:   0%|          | 0/11 [00:00<?, ?it/s]\u001b[A\n",
      "Validation DataLoader 0:   0%|          | 0/11 [00:00<?, ?it/s]\u001b[A\n",
      "Validation DataLoader 0:  91%|█████████ | 10/11 [00:02<00:00,  4.81it/s]\u001b[A\n",
      "Validation DataLoader 0: 100%|██████████| 11/11 [00:02<00:00,  5.00it/s]\u001b[A\n",
      "Epoch 4: 100%|██████████| 80/80 [00:30<00:00,  2.64it/s, v_num=1, train_total_loss_step=0.138, val_total_loss_step=0.337, val_total_loss_epoch=0.146, train_total_loss_epoch=0.199]"
     ]
    },
    {
     "name": "stderr",
     "output_type": "stream",
     "text": [
      "Epoch 4, global step 400: 'val_total_loss' was not in top 1\n"
     ]
    },
    {
     "name": "stdout",
     "output_type": "stream",
     "text": [
      "Epoch 5: 100%|██████████| 80/80 [00:27<00:00,  2.96it/s, v_num=1, train_total_loss_step=0.0582, val_total_loss_step=0.337, val_total_loss_epoch=0.146, train_total_loss_epoch=0.199]\n",
      "Validation: |          | 0/? [00:00<?, ?it/s]\u001b[A\n",
      "Validation:   0%|          | 0/11 [00:00<?, ?it/s]\u001b[A\n",
      "Validation DataLoader 0:   0%|          | 0/11 [00:00<?, ?it/s]\u001b[A\n",
      "Validation DataLoader 0:  91%|█████████ | 10/11 [00:02<00:00,  4.73it/s]\u001b[A\n",
      "Validation DataLoader 0: 100%|██████████| 11/11 [00:02<00:00,  4.93it/s]\u001b[A\n",
      "Epoch 5: 100%|██████████| 80/80 [00:29<00:00,  2.68it/s, v_num=1, train_total_loss_step=0.0582, val_total_loss_step=0.271, val_total_loss_epoch=0.138, train_total_loss_epoch=0.177]"
     ]
    },
    {
     "name": "stderr",
     "output_type": "stream",
     "text": [
      "Epoch 5, global step 480: 'val_total_loss' was not in top 1\n"
     ]
    },
    {
     "name": "stdout",
     "output_type": "stream",
     "text": [
      "Epoch 6: 100%|██████████| 80/80 [00:27<00:00,  2.89it/s, v_num=1, train_total_loss_step=0.149, val_total_loss_step=0.271, val_total_loss_epoch=0.138, train_total_loss_epoch=0.177] \n",
      "Validation: |          | 0/? [00:00<?, ?it/s]\u001b[A\n",
      "Validation:   0%|          | 0/11 [00:00<?, ?it/s]\u001b[A\n",
      "Validation DataLoader 0:   0%|          | 0/11 [00:00<?, ?it/s]\u001b[A\n",
      "Validation DataLoader 0:  91%|█████████ | 10/11 [00:02<00:00,  4.80it/s]\u001b[A\n",
      "Validation DataLoader 0: 100%|██████████| 11/11 [00:02<00:00,  5.00it/s]\u001b[A\n",
      "Epoch 6: 100%|██████████| 80/80 [00:30<00:00,  2.64it/s, v_num=1, train_total_loss_step=0.149, val_total_loss_step=0.262, val_total_loss_epoch=0.116, train_total_loss_epoch=0.168]"
     ]
    },
    {
     "name": "stderr",
     "output_type": "stream",
     "text": [
      "Metric val_total_loss improved by 0.008 >= min_delta = 0.0001. New best score: 0.116\n",
      "Epoch 6, global step 560: 'val_total_loss' reached 0.11595 (best 0.11595), saving model to '/root/DeepReaction/results/reaction_model/checkpoints/best-epoch=0006-val_total_loss=0.1160.ckpt' as top 1\n"
     ]
    },
    {
     "name": "stdout",
     "output_type": "stream",
     "text": [
      "Epoch 7: 100%|██████████| 80/80 [00:27<00:00,  2.94it/s, v_num=1, train_total_loss_step=0.0521, val_total_loss_step=0.262, val_total_loss_epoch=0.116, train_total_loss_epoch=0.168]\n",
      "Validation: |          | 0/? [00:00<?, ?it/s]\u001b[A\n",
      "Validation:   0%|          | 0/11 [00:00<?, ?it/s]\u001b[A\n",
      "Validation DataLoader 0:   0%|          | 0/11 [00:00<?, ?it/s]\u001b[A\n",
      "Validation DataLoader 0:  91%|█████████ | 10/11 [00:02<00:00,  4.82it/s]\u001b[A\n",
      "Validation DataLoader 0: 100%|██████████| 11/11 [00:02<00:00,  5.01it/s]\u001b[A\n",
      "Epoch 7: 100%|██████████| 80/80 [00:29<00:00,  2.67it/s, v_num=1, train_total_loss_step=0.0521, val_total_loss_step=0.130, val_total_loss_epoch=0.107, train_total_loss_epoch=0.154]"
     ]
    },
    {
     "name": "stderr",
     "output_type": "stream",
     "text": [
      "Metric val_total_loss improved by 0.009 >= min_delta = 0.0001. New best score: 0.107\n",
      "Epoch 7, global step 640: 'val_total_loss' reached 0.10665 (best 0.10665), saving model to '/root/DeepReaction/results/reaction_model/checkpoints/best-epoch=0007-val_total_loss=0.1066.ckpt' as top 1\n"
     ]
    },
    {
     "name": "stdout",
     "output_type": "stream",
     "text": [
      "Epoch 8: 100%|██████████| 80/80 [00:27<00:00,  2.88it/s, v_num=1, train_total_loss_step=0.324, val_total_loss_step=0.130, val_total_loss_epoch=0.107, train_total_loss_epoch=0.154] \n",
      "Validation: |          | 0/? [00:00<?, ?it/s]\u001b[A\n",
      "Validation:   0%|          | 0/11 [00:00<?, ?it/s]\u001b[A\n",
      "Validation DataLoader 0:   0%|          | 0/11 [00:00<?, ?it/s]\u001b[A\n",
      "Validation DataLoader 0:  91%|█████████ | 10/11 [00:02<00:00,  4.78it/s]\u001b[A\n",
      "Validation DataLoader 0: 100%|██████████| 11/11 [00:02<00:00,  4.98it/s]\u001b[A\n",
      "Epoch 8: 100%|██████████| 80/80 [00:30<00:00,  2.62it/s, v_num=1, train_total_loss_step=0.324, val_total_loss_step=0.340, val_total_loss_epoch=0.135, train_total_loss_epoch=0.128]"
     ]
    },
    {
     "name": "stderr",
     "output_type": "stream",
     "text": [
      "Epoch 8, global step 720: 'val_total_loss' was not in top 1\n"
     ]
    },
    {
     "name": "stdout",
     "output_type": "stream",
     "text": [
      "Epoch 9: 100%|██████████| 80/80 [00:27<00:00,  2.93it/s, v_num=1, train_total_loss_step=0.161, val_total_loss_step=0.340, val_total_loss_epoch=0.135, train_total_loss_epoch=0.128] "
     ]
    },
    {
     "name": "stderr",
     "output_type": "stream",
     "text": [
      "/root/miniconda3/lib/python3.10/site-packages/torch/optim/lr_scheduler.py:240: UserWarning: The epoch parameter in `scheduler.step()` was not necessary and is being deprecated where possible. Please use `scheduler.step()` to step the scheduler. During the deprecation, if epoch is different from None, the closed form is used instead of the new chainable form, where available. Please open an issue if you are unable to replicate your use case: https://github.com/pytorch/pytorch/issues/new/choose.\n",
      "  warnings.warn(EPOCH_DEPRECATION_WARNING, UserWarning)\n"
     ]
    },
    {
     "name": "stdout",
     "output_type": "stream",
     "text": [
      "\n",
      "Validation: |          | 0/? [00:00<?, ?it/s]\u001b[A\n",
      "Validation:   0%|          | 0/11 [00:00<?, ?it/s]\u001b[A\n",
      "Validation DataLoader 0:   0%|          | 0/11 [00:00<?, ?it/s]\u001b[A\n",
      "Validation DataLoader 0:  91%|█████████ | 10/11 [00:02<00:00,  4.75it/s]\u001b[A\n",
      "Validation DataLoader 0: 100%|██████████| 11/11 [00:02<00:00,  4.95it/s]\u001b[A\n",
      "Epoch 9: 100%|██████████| 80/80 [00:29<00:00,  2.67it/s, v_num=1, train_total_loss_step=0.161, val_total_loss_step=0.175, val_total_loss_epoch=0.089, train_total_loss_epoch=0.115]"
     ]
    },
    {
     "name": "stderr",
     "output_type": "stream",
     "text": [
      "Metric val_total_loss improved by 0.018 >= min_delta = 0.0001. New best score: 0.089\n",
      "Epoch 9, global step 800: 'val_total_loss' reached 0.08900 (best 0.08900), saving model to '/root/DeepReaction/results/reaction_model/checkpoints/best-epoch=0009-val_total_loss=0.0890.ckpt' as top 1\n"
     ]
    },
    {
     "name": "stdout",
     "output_type": "stream",
     "text": [
      "Epoch 10: 100%|██████████| 80/80 [00:27<00:00,  2.94it/s, v_num=1, train_total_loss_step=0.0504, val_total_loss_step=0.175, val_total_loss_epoch=0.089, train_total_loss_epoch=0.115]\n",
      "Validation: |          | 0/? [00:00<?, ?it/s]\u001b[A\n",
      "Validation:   0%|          | 0/11 [00:00<?, ?it/s]\u001b[A\n",
      "Validation DataLoader 0:   0%|          | 0/11 [00:00<?, ?it/s]\u001b[A\n",
      "Validation DataLoader 0:  91%|█████████ | 10/11 [00:02<00:00,  4.73it/s]\u001b[A\n",
      "Validation DataLoader 0: 100%|██████████| 11/11 [00:02<00:00,  4.93it/s]\u001b[A\n",
      "Epoch 10: 100%|██████████| 80/80 [00:29<00:00,  2.67it/s, v_num=1, train_total_loss_step=0.0504, val_total_loss_step=0.120, val_total_loss_epoch=0.0801, train_total_loss_epoch=0.110]"
     ]
    },
    {
     "name": "stderr",
     "output_type": "stream",
     "text": [
      "Metric val_total_loss improved by 0.009 >= min_delta = 0.0001. New best score: 0.080\n",
      "Epoch 10, global step 880: 'val_total_loss' reached 0.08011 (best 0.08011), saving model to '/root/DeepReaction/results/reaction_model/checkpoints/best-epoch=0010-val_total_loss=0.0801.ckpt' as top 1\n"
     ]
    },
    {
     "name": "stdout",
     "output_type": "stream",
     "text": [
      "Epoch 11: 100%|██████████| 80/80 [00:27<00:00,  2.93it/s, v_num=1, train_total_loss_step=0.107, val_total_loss_step=0.120, val_total_loss_epoch=0.0801, train_total_loss_epoch=0.110] \n",
      "Validation: |          | 0/? [00:00<?, ?it/s]\u001b[A\n",
      "Validation:   0%|          | 0/11 [00:00<?, ?it/s]\u001b[A\n",
      "Validation DataLoader 0:   0%|          | 0/11 [00:00<?, ?it/s]\u001b[A\n",
      "Validation DataLoader 0:  91%|█████████ | 10/11 [00:02<00:00,  4.78it/s]\u001b[A\n",
      "Validation DataLoader 0: 100%|██████████| 11/11 [00:02<00:00,  4.98it/s]\u001b[A\n",
      "Epoch 11: 100%|██████████| 80/80 [00:29<00:00,  2.68it/s, v_num=1, train_total_loss_step=0.107, val_total_loss_step=0.0494, val_total_loss_epoch=0.0918, train_total_loss_epoch=0.101]"
     ]
    },
    {
     "name": "stderr",
     "output_type": "stream",
     "text": [
      "Epoch 11, global step 960: 'val_total_loss' was not in top 1\n"
     ]
    },
    {
     "name": "stdout",
     "output_type": "stream",
     "text": [
      "Epoch 12: 100%|██████████| 80/80 [00:27<00:00,  2.96it/s, v_num=1, train_total_loss_step=0.122, val_total_loss_step=0.0494, val_total_loss_epoch=0.0918, train_total_loss_epoch=0.101] \n",
      "Validation: |          | 0/? [00:00<?, ?it/s]\u001b[A\n",
      "Validation:   0%|          | 0/11 [00:00<?, ?it/s]\u001b[A\n",
      "Validation DataLoader 0:   0%|          | 0/11 [00:00<?, ?it/s]\u001b[A\n",
      "Validation DataLoader 0:  91%|█████████ | 10/11 [00:02<00:00,  4.74it/s]\u001b[A\n",
      "Validation DataLoader 0: 100%|██████████| 11/11 [00:02<00:00,  4.95it/s]\u001b[A\n",
      "Epoch 12: 100%|██████████| 80/80 [00:29<00:00,  2.70it/s, v_num=1, train_total_loss_step=0.122, val_total_loss_step=0.103, val_total_loss_epoch=0.0836, train_total_loss_epoch=0.0935]"
     ]
    },
    {
     "name": "stderr",
     "output_type": "stream",
     "text": [
      "Epoch 12, global step 1040: 'val_total_loss' was not in top 1\n"
     ]
    },
    {
     "name": "stdout",
     "output_type": "stream",
     "text": [
      "Epoch 13: 100%|██████████| 80/80 [00:26<00:00,  2.98it/s, v_num=1, train_total_loss_step=0.0329, val_total_loss_step=0.103, val_total_loss_epoch=0.0836, train_total_loss_epoch=0.0935]\n",
      "Validation: |          | 0/? [00:00<?, ?it/s]\u001b[A\n",
      "Validation:   0%|          | 0/11 [00:00<?, ?it/s]\u001b[A\n",
      "Validation DataLoader 0:   0%|          | 0/11 [00:00<?, ?it/s]\u001b[A\n",
      "Validation DataLoader 0:  91%|█████████ | 10/11 [00:02<00:00,  4.26it/s]\u001b[A\n",
      "Validation DataLoader 0: 100%|██████████| 11/11 [00:02<00:00,  4.47it/s]\u001b[A\n",
      "Epoch 13: 100%|██████████| 80/80 [00:29<00:00,  2.69it/s, v_num=1, train_total_loss_step=0.0329, val_total_loss_step=0.0691, val_total_loss_epoch=0.0628, train_total_loss_epoch=0.0736]"
     ]
    },
    {
     "name": "stderr",
     "output_type": "stream",
     "text": [
      "Metric val_total_loss improved by 0.017 >= min_delta = 0.0001. New best score: 0.063\n",
      "Epoch 13, global step 1120: 'val_total_loss' reached 0.06276 (best 0.06276), saving model to '/root/DeepReaction/results/reaction_model/checkpoints/best-epoch=0013-val_total_loss=0.0628.ckpt' as top 1\n"
     ]
    },
    {
     "name": "stdout",
     "output_type": "stream",
     "text": [
      "Epoch 14: 100%|██████████| 80/80 [00:26<00:00,  2.98it/s, v_num=1, train_total_loss_step=0.177, val_total_loss_step=0.0691, val_total_loss_epoch=0.0628, train_total_loss_epoch=0.0736] \n",
      "Validation: |          | 0/? [00:00<?, ?it/s]\u001b[A\n",
      "Validation:   0%|          | 0/11 [00:00<?, ?it/s]\u001b[A\n",
      "Validation DataLoader 0:   0%|          | 0/11 [00:00<?, ?it/s]\u001b[A\n",
      "Validation DataLoader 0:  91%|█████████ | 10/11 [00:02<00:00,  4.77it/s]\u001b[A\n",
      "Validation DataLoader 0: 100%|██████████| 11/11 [00:02<00:00,  4.98it/s]\u001b[A\n",
      "Epoch 14: 100%|██████████| 80/80 [00:29<00:00,  2.71it/s, v_num=1, train_total_loss_step=0.177, val_total_loss_step=0.040, val_total_loss_epoch=0.0636, train_total_loss_epoch=0.072]  "
     ]
    },
    {
     "name": "stderr",
     "output_type": "stream",
     "text": [
      "Epoch 14, global step 1200: 'val_total_loss' was not in top 1\n"
     ]
    },
    {
     "name": "stdout",
     "output_type": "stream",
     "text": [
      "Epoch 15: 100%|██████████| 80/80 [00:27<00:00,  2.96it/s, v_num=1, train_total_loss_step=0.0161, val_total_loss_step=0.040, val_total_loss_epoch=0.0636, train_total_loss_epoch=0.072]\n",
      "Validation: |          | 0/? [00:00<?, ?it/s]\u001b[A\n",
      "Validation:   0%|          | 0/11 [00:00<?, ?it/s]\u001b[A\n",
      "Validation DataLoader 0:   0%|          | 0/11 [00:00<?, ?it/s]\u001b[A\n",
      "Validation DataLoader 0:  91%|█████████ | 10/11 [00:02<00:00,  4.75it/s]\u001b[A\n",
      "Validation DataLoader 0: 100%|██████████| 11/11 [00:02<00:00,  4.95it/s]\u001b[A\n",
      "Epoch 15: 100%|██████████| 80/80 [00:29<00:00,  2.70it/s, v_num=1, train_total_loss_step=0.0161, val_total_loss_step=0.0474, val_total_loss_epoch=0.0571, train_total_loss_epoch=0.0594]"
     ]
    },
    {
     "name": "stderr",
     "output_type": "stream",
     "text": [
      "Metric val_total_loss improved by 0.006 >= min_delta = 0.0001. New best score: 0.057\n",
      "Epoch 15, global step 1280: 'val_total_loss' reached 0.05712 (best 0.05712), saving model to '/root/DeepReaction/results/reaction_model/checkpoints/best-epoch=0015-val_total_loss=0.0571.ckpt' as top 1\n"
     ]
    },
    {
     "name": "stdout",
     "output_type": "stream",
     "text": [
      "Epoch 16: 100%|██████████| 80/80 [00:27<00:00,  2.93it/s, v_num=1, train_total_loss_step=0.0668, val_total_loss_step=0.0474, val_total_loss_epoch=0.0571, train_total_loss_epoch=0.0594]\n",
      "Validation: |          | 0/? [00:00<?, ?it/s]\u001b[A\n",
      "Validation:   0%|          | 0/11 [00:00<?, ?it/s]\u001b[A\n",
      "Validation DataLoader 0:   0%|          | 0/11 [00:00<?, ?it/s]\u001b[A\n",
      "Validation DataLoader 0:  91%|█████████ | 10/11 [00:02<00:00,  4.79it/s]\u001b[A\n",
      "Validation DataLoader 0: 100%|██████████| 11/11 [00:02<00:00,  4.99it/s]\u001b[A\n",
      "Epoch 16: 100%|██████████| 80/80 [00:29<00:00,  2.67it/s, v_num=1, train_total_loss_step=0.0668, val_total_loss_step=0.0744, val_total_loss_epoch=0.0627, train_total_loss_epoch=0.0516]"
     ]
    },
    {
     "name": "stderr",
     "output_type": "stream",
     "text": [
      "Epoch 16, global step 1360: 'val_total_loss' was not in top 1\n"
     ]
    },
    {
     "name": "stdout",
     "output_type": "stream",
     "text": [
      "Epoch 17: 100%|██████████| 80/80 [00:26<00:00,  2.98it/s, v_num=1, train_total_loss_step=0.181, val_total_loss_step=0.0744, val_total_loss_epoch=0.0627, train_total_loss_epoch=0.0516] \n",
      "Validation: |          | 0/? [00:00<?, ?it/s]\u001b[A\n",
      "Validation:   0%|          | 0/11 [00:00<?, ?it/s]\u001b[A\n",
      "Validation DataLoader 0:   0%|          | 0/11 [00:00<?, ?it/s]\u001b[A\n",
      "Validation DataLoader 0:  91%|█████████ | 10/11 [00:02<00:00,  4.86it/s]\u001b[A\n",
      "Validation DataLoader 0: 100%|██████████| 11/11 [00:02<00:00,  5.06it/s]\u001b[A\n",
      "Epoch 17: 100%|██████████| 80/80 [00:29<00:00,  2.71it/s, v_num=1, train_total_loss_step=0.181, val_total_loss_step=0.0408, val_total_loss_epoch=0.0512, train_total_loss_epoch=0.0518]"
     ]
    },
    {
     "name": "stderr",
     "output_type": "stream",
     "text": [
      "Metric val_total_loss improved by 0.006 >= min_delta = 0.0001. New best score: 0.051\n",
      "Epoch 17, global step 1440: 'val_total_loss' reached 0.05116 (best 0.05116), saving model to '/root/DeepReaction/results/reaction_model/checkpoints/best-epoch=0017-val_total_loss=0.0512.ckpt' as top 1\n"
     ]
    },
    {
     "name": "stdout",
     "output_type": "stream",
     "text": [
      "Epoch 18: 100%|██████████| 80/80 [00:27<00:00,  2.95it/s, v_num=1, train_total_loss_step=0.0997, val_total_loss_step=0.0408, val_total_loss_epoch=0.0512, train_total_loss_epoch=0.0518]\n",
      "Validation: |          | 0/? [00:00<?, ?it/s]\u001b[A\n",
      "Validation:   0%|          | 0/11 [00:00<?, ?it/s]\u001b[A\n",
      "Validation DataLoader 0:   0%|          | 0/11 [00:00<?, ?it/s]\u001b[A\n",
      "Validation DataLoader 0:  91%|█████████ | 10/11 [00:02<00:00,  4.60it/s]\u001b[A\n",
      "Validation DataLoader 0: 100%|██████████| 11/11 [00:02<00:00,  4.72it/s]\u001b[A\n",
      "Epoch 18: 100%|██████████| 80/80 [00:29<00:00,  2.67it/s, v_num=1, train_total_loss_step=0.0997, val_total_loss_step=0.0493, val_total_loss_epoch=0.0528, train_total_loss_epoch=0.0457]"
     ]
    },
    {
     "name": "stderr",
     "output_type": "stream",
     "text": [
      "Epoch 18, global step 1520: 'val_total_loss' was not in top 1\n"
     ]
    },
    {
     "name": "stdout",
     "output_type": "stream",
     "text": [
      "Epoch 19: 100%|██████████| 80/80 [00:27<00:00,  2.95it/s, v_num=1, train_total_loss_step=0.0382, val_total_loss_step=0.0493, val_total_loss_epoch=0.0528, train_total_loss_epoch=0.0457]\n",
      "Validation: |          | 0/? [00:00<?, ?it/s]\u001b[A\n",
      "Validation:   0%|          | 0/11 [00:00<?, ?it/s]\u001b[A\n",
      "Validation DataLoader 0:   0%|          | 0/11 [00:00<?, ?it/s]\u001b[A\n",
      "Validation DataLoader 0:  91%|█████████ | 10/11 [00:02<00:00,  4.74it/s]\u001b[A\n",
      "Validation DataLoader 0: 100%|██████████| 11/11 [00:02<00:00,  4.95it/s]\u001b[A\n",
      "Epoch 19: 100%|██████████| 80/80 [00:29<00:00,  2.69it/s, v_num=1, train_total_loss_step=0.0382, val_total_loss_step=0.0355, val_total_loss_epoch=0.0523, train_total_loss_epoch=0.0437]"
     ]
    },
    {
     "name": "stderr",
     "output_type": "stream",
     "text": [
      "Epoch 19, global step 1600: 'val_total_loss' was not in top 1\n",
      "`Trainer.fit` stopped: `max_epochs=20` reached.\n"
     ]
    },
    {
     "name": "stdout",
     "output_type": "stream",
     "text": [
      "Epoch 19: 100%|██████████| 80/80 [00:29<00:00,  2.69it/s, v_num=1, train_total_loss_step=0.0382, val_total_loss_step=0.0355, val_total_loss_epoch=0.0523, train_total_loss_epoch=0.0437]\n"
     ]
    },
    {
     "name": "stderr",
     "output_type": "stream",
     "text": [
      "LOCAL_RANK: 0 - CUDA_VISIBLE_DEVICES: [0]\n"
     ]
    },
    {
     "name": "stdout",
     "output_type": "stream",
     "text": [
      "Testing DataLoader 0: 100%|██████████| 10/10 [00:02<00:00,  4.78it/s]\n",
      "────────────────────────────────────────────────────────────────────────────────────────────────────────────────────────\n",
      "       Test metric             DataLoader 0\n",
      "────────────────────────────────────────────────────────────────────────────────────────────────────────────────────────\n",
      "      Test Avg MAE          1.5185050964355469\n",
      "     Test Avg MAX_AE        10.971177101135254\n",
      "   Test Avg MEDIAN_AE       1.1011011600494385\n",
      "      Test Avg MPAE          33.17732238769531\n",
      "       Test Avg R2          0.9511441588401794\n",
      "      Test Avg RMSE          2.188504457473755\n",
      "      Test MAE DrG          1.7905664443969727\n",
      "     Test MAE G(TS)          1.246443748474121\n",
      "     Test MAX_AE DrG        16.361448287963867\n",
      "    Test MAX_AE G(TS)        5.580905914306641\n",
      "   Test MEDIAN_AE DrG        1.32346773147583\n",
      "  Test MEDIAN_AE G(TS)      0.8787345886230469\n",
      "      Test MPAE DrG          62.69510269165039\n",
      "     Test MPAE G(TS)        3.6595444679260254\n",
      "       Test R2 DrG          0.9570575952529907\n",
      "      Test R2 G(TS)         0.9452307224273682\n",
      "      Test RMSE DrG          2.723952531814575\n",
      "     Test RMSE G(TS)        1.6530565023422241\n",
      "     test_total_loss       0.059269316494464874\n",
      "────────────────────────────────────────────────────────────────────────────────────────────────────────────────────────\n",
      "Training completed successfully\n",
      "Metrics: {'best_model_path': '/root/DeepReaction/results/reaction_model/checkpoints/best-epoch=0017-val_total_loss=0.0512.ckpt', 'training_time': 600.9239444732666, 'epochs_completed': 20, 'mode': 'continue', 'test_metrics': {'test_total_loss': 0.059269316494464874, 'Test MAE G(TS)': 1.246443748474121, 'Test RMSE G(TS)': 1.6530565023422241, 'Test R2 G(TS)': 0.9452307224273682, 'Test MPAE G(TS)': 3.6595444679260254, 'Test MAX_AE G(TS)': 5.580905914306641, 'Test MEDIAN_AE G(TS)': 0.8787345886230469, 'Test MAE DrG': 1.7905664443969727, 'Test RMSE DrG': 2.723952531814575, 'Test R2 DrG': 0.9570575952529907, 'Test MPAE DrG': 62.69510269165039, 'Test MAX_AE DrG': 16.361448287963867, 'Test MEDIAN_AE DrG': 1.32346773147583, 'Test Avg MAE': 1.5185050964355469, 'Test Avg RMSE': 2.188504457473755, 'Test Avg R2': 0.9511441588401794, 'Test Avg MPAE': 33.17732238769531, 'Test Avg MAX_AE': 10.971177101135254, 'Test Avg MEDIAN_AE': 1.1011011600494385}}\n",
      "Best model saved to: /root/DeepReaction/results/reaction_model/checkpoints/best-epoch=0017-val_total_loss=0.0512.ckpt\n"
     ]
    }
   ],
   "source": [
    "# Train the model\n",
    "train_metrics = trainer.fit(\n",
    "    train_dataset=dataset.train_data,\n",
    "    val_dataset=dataset.val_data,\n",
    "    test_dataset=dataset.test_data,\n",
    "    checkpoint_path=config.training.resume_from_checkpoint,\n",
    "    mode=config.training.mode\n",
    ")\n",
    "\n",
    "print(\"Training completed successfully\")\n",
    "print(\"Metrics:\", train_metrics)\n",
    "if 'best_model_path' in train_metrics and train_metrics['best_model_path']:\n",
    "    print(f\"Best model saved to: {train_metrics['best_model_path']}\")\n",
    "elif config.training.save_last_model and 'last_model_path' in train_metrics and train_metrics['last_model_path']:\n",
    "    print(f\"Last model saved to: {train_metrics['last_model_path']}\")"
   ]
  },
  {
   "cell_type": "code",
   "execution_count": null,
   "id": "595f15e1-8f11-4ef0-9535-05cd6d42b59c",
   "metadata": {},
   "outputs": [],
   "source": []
  },
  {
   "cell_type": "code",
   "execution_count": null,
   "id": "98d105a9-71df-4ac1-9ad9-4cc360ebb591",
   "metadata": {},
   "outputs": [],
   "source": []
  },
  {
   "cell_type": "code",
   "execution_count": null,
   "id": "605b1dd6-751d-4b78-bb48-5f62264d4d24",
   "metadata": {},
   "outputs": [],
   "source": []
  },
  {
   "cell_type": "code",
   "execution_count": null,
   "id": "150b63c3-3c61-41ae-9f1c-35a329f2f00d",
   "metadata": {},
   "outputs": [],
   "source": []
  }
 ],
 "metadata": {
  "kernelspec": {
   "display_name": "reaction",
   "language": "python",
   "name": "myenv"
  },
  "language_info": {
   "codemirror_mode": {
    "name": "ipython",
    "version": 3
   },
   "file_extension": ".py",
   "mimetype": "text/x-python",
   "name": "python",
   "nbconvert_exporter": "python",
   "pygments_lexer": "ipython3",
   "version": "3.10.14"
  }
 },
 "nbformat": 4,
 "nbformat_minor": 5
}
